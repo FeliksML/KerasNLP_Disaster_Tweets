{
 "cells": [
  {
   "metadata": {},
   "cell_type": "markdown",
   "source": [
    "# Setup and Environment Configuration\n",
    "\n",
    "This cell installs the required libraries and sets up the environment for our project.\n",
    "\n",
    "- We upgrade `keras-core` and `keras-nlp` to ensure we have the latest versions.\n",
    "- We set the Keras backend to TensorFlow. Keras Core supports multiple backends, including JAX and PyTorch.\n",
    "\n",
    "Run this cell before proceeding with the rest of the code."
   ],
   "id": "bd6dd2f884339418"
  },
  {
   "cell_type": "code",
   "id": "initial_id",
   "metadata": {
    "collapsed": true
   },
   "source": [
    "!pip install keras-core --upgrade\n",
    "!pip install -q keras-nlp --upgrade\n",
    "!pip install torch\n",
    "# This sample uses Keras Core, the multi-backend version of Keras.\n",
    "# The selected backend is TensorFlow (other supported backends are 'jax' and 'torch')\n",
    "import os\n",
    "os.environ['KERAS_BACKEND'] = 'tensorflow'"
   ],
   "outputs": [],
   "execution_count": null
  },
  {
   "metadata": {
    "jupyter": {
     "is_executing": true
    },
    "ExecuteTime": {
     "start_time": "2024-07-19T04:04:29.087162Z"
    }
   },
   "cell_type": "code",
   "source": [
    "import numpy as np # linear algebra\n",
    "import pandas as pd # data processing, CSV file I/O (e.g. pd.read_csv)\n",
    "import tensorflow as tf\n",
    "import keras_core as keras\n",
    "import keras_nlp\n",
    "from sklearn.metrics import ConfusionMatrixDisplay, confusion_matrix\n",
    "import seaborn as sns\n",
    "import matplotlib.pyplot as plt\n",
    "\n",
    "print(\"TensorFlow version:\", tf.__version__)\n",
    "print(\"KerasNLP version:\", keras_nlp.__version__)"
   ],
   "id": "2a38cbe80d56af13",
   "outputs": [],
   "execution_count": null
  },
  {
   "metadata": {},
   "cell_type": "code",
   "outputs": [],
   "execution_count": null,
   "source": "",
   "id": "3e891d4384708655"
  }
 ],
 "metadata": {
  "kernelspec": {
   "display_name": "Python 3",
   "language": "python",
   "name": "python3"
  },
  "language_info": {
   "codemirror_mode": {
    "name": "ipython",
    "version": 2
   },
   "file_extension": ".py",
   "mimetype": "text/x-python",
   "name": "python",
   "nbconvert_exporter": "python",
   "pygments_lexer": "ipython2",
   "version": "2.7.6"
  }
 },
 "nbformat": 4,
 "nbformat_minor": 5
}
